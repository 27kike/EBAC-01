{
 "cells": [
  {
   "cell_type": "markdown",
   "id": "3cc653ab",
   "metadata": {},
   "source": [
    "# Ejercicio Fundamentos"
   ]
  },
  {
   "cell_type": "code",
   "execution_count": 8,
   "id": "d51632ab",
   "metadata": {},
   "outputs": [
    {
     "name": "stdout",
     "output_type": "stream",
     "text": [
      "Ingresa los siguientes valores separados por una coma: Un número entero, un numero decimal y una frase: 90,9.0,hola mundo\n",
      "El número: 90 es de tipo: <class 'int'>\n",
      "El número decimal: 9.0 es de tipo: <class 'float'>\n",
      "La frase: hola mundo es de tipo: <class 'str'>\n"
     ]
    }
   ],
   "source": [
    "numero,decimal, cadena = input('Ingresa los siguientes valores separados por una coma: Un número entero, un numero decimal y una frase: ').split(',')\n",
    "print('El número: {} es de tipo: {}'.format(numero,type(int(numero))))\n",
    "print('El número decimal: {} es de tipo: {}'.format(decimal,type(float(decimal))))\n",
    "print('La frase: {} es de tipo: {}'.format(cadena, type(cadena)))\n"
   ]
  }
 ],
 "metadata": {
  "kernelspec": {
   "display_name": "Python 3 (ipykernel)",
   "language": "python",
   "name": "python3"
  },
  "language_info": {
   "codemirror_mode": {
    "name": "ipython",
    "version": 3
   },
   "file_extension": ".py",
   "mimetype": "text/x-python",
   "name": "python",
   "nbconvert_exporter": "python",
   "pygments_lexer": "ipython3",
   "version": "3.11.4"
  }
 },
 "nbformat": 4,
 "nbformat_minor": 5
}

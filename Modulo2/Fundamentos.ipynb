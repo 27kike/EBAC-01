{
 "cells": [
  {
   "cell_type": "markdown",
   "id": "ddc2ab8a",
   "metadata": {},
   "source": [
    "# Python distingue entre mayúsculas y minúsculas"
   ]
  },
  {
   "cell_type": "code",
   "execution_count": 3,
   "id": "6984f3c5",
   "metadata": {},
   "outputs": [
    {
     "name": "stdout",
     "output_type": "stream",
     "text": [
      "Estoy aprendiendo Backend con python\n"
     ]
    }
   ],
   "source": [
    "A = 'Backend con python'\n",
    "print('Estoy aprendiendo {}'.format(A))"
   ]
  },
  {
   "cell_type": "code",
   "execution_count": 4,
   "id": "33271a1e",
   "metadata": {},
   "outputs": [
    {
     "ename": "NameError",
     "evalue": "name 'a' is not defined",
     "output_type": "error",
     "traceback": [
      "\u001b[0;31m---------------------------------------------------------------------------\u001b[0m",
      "\u001b[0;31mNameError\u001b[0m                                 Traceback (most recent call last)",
      "Cell \u001b[0;32mIn[4], line 2\u001b[0m\n\u001b[1;32m      1\u001b[0m A \u001b[38;5;241m=\u001b[39m \u001b[38;5;124m'\u001b[39m\u001b[38;5;124mBackend con python\u001b[39m\u001b[38;5;124m'\u001b[39m\n\u001b[0;32m----> 2\u001b[0m \u001b[38;5;28mprint\u001b[39m(\u001b[38;5;124m'\u001b[39m\u001b[38;5;124mEstoy aprendiendo \u001b[39m\u001b[38;5;132;01m{}\u001b[39;00m\u001b[38;5;124m'\u001b[39m\u001b[38;5;241m.\u001b[39mformat(a))\n",
      "\u001b[0;31mNameError\u001b[0m: name 'a' is not defined"
     ]
    }
   ],
   "source": [
    "A = 'Backend con python'\n",
    "print('Estoy aprendiendo {}'.format(a))"
   ]
  },
  {
   "cell_type": "markdown",
   "id": "fb78aace",
   "metadata": {},
   "source": [
    "# Palabras reservadas en python"
   ]
  },
  {
   "cell_type": "code",
   "execution_count": 7,
   "id": "3ac295a3",
   "metadata": {},
   "outputs": [
    {
     "name": "stdout",
     "output_type": "stream",
     "text": [
      "\n",
      "Here is a list of the Python keywords.  Enter any keyword to get more help.\n",
      "\n",
      "False               class               from                or\n",
      "None                continue            global              pass\n",
      "True                def                 if                  raise\n",
      "and                 del                 import              return\n",
      "as                  elif                in                  try\n",
      "assert              else                is                  while\n",
      "async               except              lambda              with\n",
      "await               finally             nonlocal            yield\n",
      "break               for                 not                 \n",
      "\n"
     ]
    }
   ],
   "source": [
    "help('keywords')"
   ]
  },
  {
   "cell_type": "markdown",
   "id": "0b6fb447",
   "metadata": {},
   "source": [
    "# Caracteres de escape"
   ]
  },
  {
   "cell_type": "code",
   "execution_count": 8,
   "id": "b0304860",
   "metadata": {},
   "outputs": [
    {
     "data": {
      "text/plain": [
       "\"'\""
      ]
     },
     "execution_count": 8,
     "metadata": {},
     "output_type": "execute_result"
    }
   ],
   "source": [
    "\"\\'\" #Comilla sencilla"
   ]
  },
  {
   "cell_type": "code",
   "execution_count": 9,
   "id": "036ec902",
   "metadata": {},
   "outputs": [
    {
     "data": {
      "text/plain": [
       "'\"'"
      ]
     },
     "execution_count": 9,
     "metadata": {},
     "output_type": "execute_result"
    }
   ],
   "source": [
    "\"\\\"\" #Comilla doble"
   ]
  },
  {
   "cell_type": "code",
   "execution_count": 10,
   "id": "0c668f64",
   "metadata": {},
   "outputs": [
    {
     "data": {
      "text/plain": [
       "'\\n'"
      ]
     },
     "execution_count": 10,
     "metadata": {},
     "output_type": "execute_result"
    }
   ],
   "source": [
    "'\\n'#Salto de lines"
   ]
  },
  {
   "cell_type": "code",
   "execution_count": 11,
   "id": "dc4df813",
   "metadata": {},
   "outputs": [
    {
     "data": {
      "text/plain": [
       "'\\t'"
      ]
     },
     "execution_count": 11,
     "metadata": {},
     "output_type": "execute_result"
    }
   ],
   "source": [
    "'\\t'#tab"
   ]
  },
  {
   "cell_type": "code",
   "execution_count": 13,
   "id": "e618619b",
   "metadata": {},
   "outputs": [
    {
     "data": {
      "text/plain": [
       "'\\r'"
      ]
     },
     "execution_count": 13,
     "metadata": {},
     "output_type": "execute_result"
    }
   ],
   "source": [
    "'\\r'#Retorno de carro"
   ]
  },
  {
   "cell_type": "code",
   "execution_count": 17,
   "id": "404261a2",
   "metadata": {},
   "outputs": [
    {
     "name": "stdout",
     "output_type": "stream",
     "text": [
      "Curso de \r",
      "backend\n"
     ]
    }
   ],
   "source": [
    "curso = 'Curso de \\rbackend'\n",
    "print(curso)"
   ]
  },
  {
   "cell_type": "code",
   "execution_count": 19,
   "id": "50ab52b6",
   "metadata": {},
   "outputs": [
    {
     "data": {
      "text/plain": [
       "'\\x08'"
      ]
     },
     "execution_count": 19,
     "metadata": {},
     "output_type": "execute_result"
    }
   ],
   "source": [
    "'\\b'#Retorno"
   ]
  },
  {
   "cell_type": "code",
   "execution_count": 21,
   "id": "a228a66a",
   "metadata": {},
   "outputs": [
    {
     "name": "stdout",
     "output_type": "stream",
     "text": [
      "Curso de \bbackend\n"
     ]
    }
   ],
   "source": [
    "curso = 'Curso de \\bbackend'\n",
    "print(curso)"
   ]
  },
  {
   "cell_type": "code",
   "execution_count": 23,
   "id": "91f166d6",
   "metadata": {},
   "outputs": [
    {
     "data": {
      "text/plain": [
       "'\\\\ooo'"
      ]
     },
     "execution_count": 23,
     "metadata": {},
     "output_type": "execute_result"
    }
   ],
   "source": [
    "'\\ooo' #Octual"
   ]
  },
  {
   "cell_type": "markdown",
   "id": "e4d80db9",
   "metadata": {},
   "source": [
    "# Función eval() de str a int"
   ]
  },
  {
   "cell_type": "code",
   "execution_count": 26,
   "id": "68093b92",
   "metadata": {},
   "outputs": [
    {
     "name": "stdout",
     "output_type": "stream",
     "text": [
      "22 + 100\n"
     ]
    }
   ],
   "source": [
    "num = 22\n",
    "print('{} + 100'.format(num))"
   ]
  },
  {
   "cell_type": "code",
   "execution_count": 30,
   "id": "c1ed51af",
   "metadata": {},
   "outputs": [
    {
     "name": "stdout",
     "output_type": "stream",
     "text": [
      "122\n"
     ]
    }
   ],
   "source": [
    "num = 22\n",
    "print(eval(\"num + 100\"))"
   ]
  },
  {
   "cell_type": "markdown",
   "id": "94b46cb6",
   "metadata": {},
   "source": [
    "# Función range(inicio,fin-1,salto) y xrange()"
   ]
  },
  {
   "cell_type": "code",
   "execution_count": null,
   "id": "6f6c5026",
   "metadata": {},
   "outputs": [],
   "source": []
  },
  {
   "cell_type": "code",
   "execution_count": 35,
   "id": "2199fd64",
   "metadata": {},
   "outputs": [],
   "source": [
    "x = range(1, 11, 2)"
   ]
  },
  {
   "cell_type": "code",
   "execution_count": 36,
   "id": "aece1dd7",
   "metadata": {},
   "outputs": [
    {
     "data": {
      "text/plain": [
       "range(1, 11, 2)"
      ]
     },
     "execution_count": 36,
     "metadata": {},
     "output_type": "execute_result"
    }
   ],
   "source": [
    "x"
   ]
  },
  {
   "cell_type": "code",
   "execution_count": 38,
   "id": "9b6679f2",
   "metadata": {},
   "outputs": [
    {
     "name": "stdout",
     "output_type": "stream",
     "text": [
      "1\n",
      "3\n",
      "5\n",
      "7\n",
      "9\n"
     ]
    }
   ],
   "source": [
    "for num in x:\n",
    "    print(num)"
   ]
  },
  {
   "cell_type": "markdown",
   "id": "9da9df06",
   "metadata": {},
   "source": [
    "# Mutabilidad e Inmutabilidad"
   ]
  },
  {
   "cell_type": "code",
   "execution_count": 40,
   "id": "c0379798",
   "metadata": {},
   "outputs": [],
   "source": [
    "tupla = 1,2,3,4,5"
   ]
  },
  {
   "cell_type": "code",
   "execution_count": 42,
   "id": "cc982a7c",
   "metadata": {},
   "outputs": [
    {
     "data": {
      "text/plain": [
       "(1, 2, 3, 4, 5)"
      ]
     },
     "execution_count": 42,
     "metadata": {},
     "output_type": "execute_result"
    }
   ],
   "source": [
    "tupla #Las tuplas son inmutables al igual que las cadenas... no se pueden modificar"
   ]
  },
  {
   "cell_type": "code",
   "execution_count": 43,
   "id": "5a0b8dfe",
   "metadata": {},
   "outputs": [],
   "source": [
    "string = 'Aprendiendo de inmutabilidad'"
   ]
  },
  {
   "cell_type": "code",
   "execution_count": 45,
   "id": "b6c99f0c",
   "metadata": {},
   "outputs": [
    {
     "ename": "TypeError",
     "evalue": "'str' object does not support item assignment",
     "output_type": "error",
     "traceback": [
      "\u001b[0;31m---------------------------------------------------------------------------\u001b[0m",
      "\u001b[0;31mTypeError\u001b[0m                                 Traceback (most recent call last)",
      "Cell \u001b[0;32mIn[45], line 1\u001b[0m\n\u001b[0;32m----> 1\u001b[0m string[\u001b[38;5;241m0\u001b[39m] \u001b[38;5;241m=\u001b[39m \u001b[38;5;124m'\u001b[39m\u001b[38;5;124ma\u001b[39m\u001b[38;5;124m'\u001b[39m\n",
      "\u001b[0;31mTypeError\u001b[0m: 'str' object does not support item assignment"
     ]
    }
   ],
   "source": [
    "string[0] = 'a'"
   ]
  },
  {
   "cell_type": "code",
   "execution_count": 47,
   "id": "cfaa7693",
   "metadata": {},
   "outputs": [],
   "source": [
    "lista = ['azul','rojo','verde','amarillo']"
   ]
  },
  {
   "cell_type": "code",
   "execution_count": 51,
   "id": "07538638",
   "metadata": {},
   "outputs": [],
   "source": [
    "lista[0]='negro'#Las listas son mutables... se pueden modificar"
   ]
  },
  {
   "cell_type": "code",
   "execution_count": 52,
   "id": "1864c986",
   "metadata": {},
   "outputs": [
    {
     "data": {
      "text/plain": [
       "['negro', 'rojo', 'verde', 'amarillo']"
      ]
     },
     "execution_count": 52,
     "metadata": {},
     "output_type": "execute_result"
    }
   ],
   "source": [
    "lista"
   ]
  },
  {
   "cell_type": "markdown",
   "id": "6d0e8c09",
   "metadata": {},
   "source": [
    "# Función print()"
   ]
  },
  {
   "cell_type": "code",
   "execution_count": 54,
   "id": "548cf09e",
   "metadata": {},
   "outputs": [
    {
     "name": "stdout",
     "output_type": "stream",
     "text": [
      "El valor de la varibale es: 89\n"
     ]
    }
   ],
   "source": [
    "a = 89\n",
    "print('El valor de la varibale es:',89)"
   ]
  },
  {
   "cell_type": "code",
   "execution_count": 56,
   "id": "3cecdbd9",
   "metadata": {},
   "outputs": [],
   "source": [
    "import builtins"
   ]
  },
  {
   "cell_type": "code",
   "execution_count": 58,
   "id": "a937f16b",
   "metadata": {},
   "outputs": [
    {
     "name": "stdout",
     "output_type": "stream",
     "text": [
      "Help on built-in function print in module builtins:\n",
      "\n",
      "print(*args, sep=' ', end='\\n', file=None, flush=False)\n",
      "    Prints the values to a stream, or to sys.stdout by default.\n",
      "    \n",
      "    sep\n",
      "      string inserted between values, default a space.\n",
      "    end\n",
      "      string appended after the last value, default a newline.\n",
      "    file\n",
      "      a file-like object (stream); defaults to the current sys.stdout.\n",
      "    flush\n",
      "      whether to forcibly flush the stream.\n",
      "\n"
     ]
    }
   ],
   "source": [
    "help(builtins.print)"
   ]
  },
  {
   "cell_type": "code",
   "execution_count": 61,
   "id": "6c984556",
   "metadata": {},
   "outputs": [
    {
     "data": {
      "text/plain": [
       "['ArithmeticError',\n",
       " 'AssertionError',\n",
       " 'AttributeError',\n",
       " 'BaseException',\n",
       " 'BaseExceptionGroup',\n",
       " 'BlockingIOError',\n",
       " 'BrokenPipeError',\n",
       " 'BufferError',\n",
       " 'BytesWarning',\n",
       " 'ChildProcessError',\n",
       " 'ConnectionAbortedError',\n",
       " 'ConnectionError',\n",
       " 'ConnectionRefusedError',\n",
       " 'ConnectionResetError',\n",
       " 'DeprecationWarning',\n",
       " 'EOFError',\n",
       " 'Ellipsis',\n",
       " 'EncodingWarning',\n",
       " 'EnvironmentError',\n",
       " 'Exception',\n",
       " 'ExceptionGroup',\n",
       " 'False',\n",
       " 'FileExistsError',\n",
       " 'FileNotFoundError',\n",
       " 'FloatingPointError',\n",
       " 'FutureWarning',\n",
       " 'GeneratorExit',\n",
       " 'IOError',\n",
       " 'ImportError',\n",
       " 'ImportWarning',\n",
       " 'IndentationError',\n",
       " 'IndexError',\n",
       " 'InterruptedError',\n",
       " 'IsADirectoryError',\n",
       " 'KeyError',\n",
       " 'KeyboardInterrupt',\n",
       " 'LookupError',\n",
       " 'MemoryError',\n",
       " 'ModuleNotFoundError',\n",
       " 'NameError',\n",
       " 'None',\n",
       " 'NotADirectoryError',\n",
       " 'NotImplemented',\n",
       " 'NotImplementedError',\n",
       " 'OSError',\n",
       " 'OverflowError',\n",
       " 'PendingDeprecationWarning',\n",
       " 'PermissionError',\n",
       " 'ProcessLookupError',\n",
       " 'RecursionError',\n",
       " 'ReferenceError',\n",
       " 'ResourceWarning',\n",
       " 'RuntimeError',\n",
       " 'RuntimeWarning',\n",
       " 'StopAsyncIteration',\n",
       " 'StopIteration',\n",
       " 'SyntaxError',\n",
       " 'SyntaxWarning',\n",
       " 'SystemError',\n",
       " 'SystemExit',\n",
       " 'TabError',\n",
       " 'TimeoutError',\n",
       " 'True',\n",
       " 'TypeError',\n",
       " 'UnboundLocalError',\n",
       " 'UnicodeDecodeError',\n",
       " 'UnicodeEncodeError',\n",
       " 'UnicodeError',\n",
       " 'UnicodeTranslateError',\n",
       " 'UnicodeWarning',\n",
       " 'UserWarning',\n",
       " 'ValueError',\n",
       " 'Warning',\n",
       " 'ZeroDivisionError',\n",
       " '__IPYTHON__',\n",
       " '__build_class__',\n",
       " '__debug__',\n",
       " '__doc__',\n",
       " '__import__',\n",
       " '__loader__',\n",
       " '__name__',\n",
       " '__package__',\n",
       " '__spec__',\n",
       " 'abs',\n",
       " 'aiter',\n",
       " 'all',\n",
       " 'anext',\n",
       " 'any',\n",
       " 'ascii',\n",
       " 'bin',\n",
       " 'bool',\n",
       " 'breakpoint',\n",
       " 'bytearray',\n",
       " 'bytes',\n",
       " 'callable',\n",
       " 'chr',\n",
       " 'classmethod',\n",
       " 'compile',\n",
       " 'complex',\n",
       " 'copyright',\n",
       " 'credits',\n",
       " 'delattr',\n",
       " 'dict',\n",
       " 'dir',\n",
       " 'display',\n",
       " 'divmod',\n",
       " 'enumerate',\n",
       " 'eval',\n",
       " 'exec',\n",
       " 'execfile',\n",
       " 'filter',\n",
       " 'float',\n",
       " 'format',\n",
       " 'frozenset',\n",
       " 'get_ipython',\n",
       " 'getattr',\n",
       " 'globals',\n",
       " 'hasattr',\n",
       " 'hash',\n",
       " 'help',\n",
       " 'hex',\n",
       " 'id',\n",
       " 'input',\n",
       " 'int',\n",
       " 'isinstance',\n",
       " 'issubclass',\n",
       " 'iter',\n",
       " 'len',\n",
       " 'license',\n",
       " 'list',\n",
       " 'locals',\n",
       " 'map',\n",
       " 'max',\n",
       " 'memoryview',\n",
       " 'min',\n",
       " 'next',\n",
       " 'object',\n",
       " 'oct',\n",
       " 'open',\n",
       " 'ord',\n",
       " 'pow',\n",
       " 'print',\n",
       " 'property',\n",
       " 'range',\n",
       " 'repr',\n",
       " 'reversed',\n",
       " 'round',\n",
       " 'runfile',\n",
       " 'set',\n",
       " 'setattr',\n",
       " 'slice',\n",
       " 'sorted',\n",
       " 'staticmethod',\n",
       " 'str',\n",
       " 'sum',\n",
       " 'super',\n",
       " 'tuple',\n",
       " 'type',\n",
       " 'vars',\n",
       " 'zip']"
      ]
     },
     "execution_count": 61,
     "metadata": {},
     "output_type": "execute_result"
    }
   ],
   "source": [
    "dir(builtins)"
   ]
  },
  {
   "cell_type": "markdown",
   "id": "39ce8d68",
   "metadata": {},
   "source": [
    "# Función type()"
   ]
  },
  {
   "cell_type": "code",
   "execution_count": 63,
   "id": "972a1707",
   "metadata": {},
   "outputs": [
    {
     "name": "stdout",
     "output_type": "stream",
     "text": [
      "<class 'int'>\n"
     ]
    }
   ],
   "source": [
    "x = 90\n",
    "print(type(x))"
   ]
  },
  {
   "cell_type": "code",
   "execution_count": 67,
   "id": "244a373d",
   "metadata": {},
   "outputs": [
    {
     "name": "stdout",
     "output_type": "stream",
     "text": [
      "<class 'str'>\n"
     ]
    }
   ],
   "source": [
    "string = 'hola'\n",
    "print(type (string))"
   ]
  },
  {
   "cell_type": "code",
   "execution_count": 68,
   "id": "0695b7c5",
   "metadata": {},
   "outputs": [
    {
     "name": "stdout",
     "output_type": "stream",
     "text": [
      "<class 'bool'>\n"
     ]
    }
   ],
   "source": [
    "bandera = True\n",
    "print(type(bandera))"
   ]
  },
  {
   "cell_type": "code",
   "execution_count": 70,
   "id": "cc4d9d97",
   "metadata": {},
   "outputs": [
    {
     "name": "stdout",
     "output_type": "stream",
     "text": [
      "<class 'list'>\n"
     ]
    }
   ],
   "source": [
    "lista = [1,2,3,4,5,6]\n",
    "print(type(lista))"
   ]
  },
  {
   "cell_type": "code",
   "execution_count": 71,
   "id": "e8291c5e",
   "metadata": {},
   "outputs": [
    {
     "name": "stdout",
     "output_type": "stream",
     "text": [
      "<class 'tuple'>\n"
     ]
    }
   ],
   "source": [
    "tupla = 1,2,3,4,5\n",
    "print(type(tupla))"
   ]
  },
  {
   "cell_type": "code",
   "execution_count": 75,
   "id": "a42ea45e",
   "metadata": {},
   "outputs": [
    {
     "name": "stdout",
     "output_type": "stream",
     "text": [
      "<class 'set'>\n"
     ]
    }
   ],
   "source": [
    "mset = {4,32,'hola',9.9}\n",
    "print(type(mset))"
   ]
  },
  {
   "cell_type": "code",
   "execution_count": 78,
   "id": "9b139dbe",
   "metadata": {},
   "outputs": [],
   "source": [
    "dicc = {\"a\":20,\"b\":43,\"c\":34}"
   ]
  },
  {
   "cell_type": "code",
   "execution_count": 81,
   "id": "d772b626",
   "metadata": {},
   "outputs": [
    {
     "name": "stdout",
     "output_type": "stream",
     "text": [
      "<class 'dict'>\n"
     ]
    }
   ],
   "source": [
    "print(type(dicc))"
   ]
  },
  {
   "cell_type": "markdown",
   "id": "25a214fa",
   "metadata": {},
   "source": [
    "# Función id()\n",
    "### Función para obtener la dirección de memoria... python está optimizado para detectar cuando dos variables tienen el mismo string, lo cual regresa la misma dirección de memoria"
   ]
  },
  {
   "cell_type": "code",
   "execution_count": 82,
   "id": "d3eaa0b0",
   "metadata": {},
   "outputs": [
    {
     "name": "stdout",
     "output_type": "stream",
     "text": [
      "4424070192\n"
     ]
    }
   ],
   "source": [
    "cadena = 'Backend'\n",
    "print(id(cadena))"
   ]
  },
  {
   "cell_type": "code",
   "execution_count": 84,
   "id": "60d1d940",
   "metadata": {},
   "outputs": [
    {
     "name": "stdout",
     "output_type": "stream",
     "text": [
      "4424070192\n"
     ]
    }
   ],
   "source": [
    "cadena1 = 'Backend'\n",
    "print(id(cadena1))"
   ]
  },
  {
   "cell_type": "markdown",
   "id": "f25e9279",
   "metadata": {},
   "source": [
    "# Múltiples valores de entrada"
   ]
  },
  {
   "cell_type": "code",
   "execution_count": 86,
   "id": "60d3b5b8",
   "metadata": {},
   "outputs": [
    {
     "name": "stdout",
     "output_type": "stream",
     "text": [
      "Ingresa numero: 90\n",
      "El numero es: 90\n"
     ]
    }
   ],
   "source": [
    "numero = input('Ingresa numero: ')\n",
    "print('El numero es: {}'.format(numero))"
   ]
  },
  {
   "cell_type": "code",
   "execution_count": 90,
   "id": "c85ab0a3",
   "metadata": {},
   "outputs": [
    {
     "name": "stdout",
     "output_type": "stream",
     "text": [
      "Ingresa los tres numeros: 90,235,234\n"
     ]
    },
    {
     "ename": "ValueError",
     "evalue": "not enough values to unpack (expected 3, got 1)",
     "output_type": "error",
     "traceback": [
      "\u001b[0;31m---------------------------------------------------------------------------\u001b[0m",
      "\u001b[0;31mValueError\u001b[0m                                Traceback (most recent call last)",
      "Cell \u001b[0;32mIn[90], line 1\u001b[0m\n\u001b[0;32m----> 1\u001b[0m a,b,c \u001b[38;5;241m=\u001b[39m \u001b[38;5;28minput\u001b[39m(\u001b[38;5;124m'\u001b[39m\u001b[38;5;124mIngresa los tres numeros: \u001b[39m\u001b[38;5;124m'\u001b[39m)\u001b[38;5;241m.\u001b[39msplit()\n\u001b[1;32m      2\u001b[0m \u001b[38;5;28mprint\u001b[39m(\u001b[38;5;124m'\u001b[39m\u001b[38;5;124mEl numero es: \u001b[39m\u001b[38;5;132;01m{}\u001b[39;00m\u001b[38;5;124m'\u001b[39m\u001b[38;5;241m.\u001b[39mformat(a))\n\u001b[1;32m      3\u001b[0m \u001b[38;5;28mprint\u001b[39m(\u001b[38;5;124m'\u001b[39m\u001b[38;5;124mEl numero es: \u001b[39m\u001b[38;5;132;01m{}\u001b[39;00m\u001b[38;5;124m'\u001b[39m\u001b[38;5;241m.\u001b[39mformat(b))\n",
      "\u001b[0;31mValueError\u001b[0m: not enough values to unpack (expected 3, got 1)"
     ]
    }
   ],
   "source": [
    "a,b,c = input('Ingresa los tres numeros: ').split()\n",
    "print('El numero es: {}'.format(a))\n",
    "print('El numero es: {}'.format(b))\n",
    "print('El numero es: {}'.format(c))"
   ]
  },
  {
   "cell_type": "code",
   "execution_count": 91,
   "id": "9cf0b44e",
   "metadata": {},
   "outputs": [
    {
     "name": "stdout",
     "output_type": "stream",
     "text": [
      "Ingresa los tres numeros separados por comas: 90,34,23\n",
      "El numero es: 90\n",
      "El numero es: 34\n",
      "El numero es: 23\n"
     ]
    }
   ],
   "source": [
    "a,b,c = input('Ingresa los tres numeros separados por comas: ').split(',')\n",
    "print('El numero es: {}'.format(a))\n",
    "print('El numero es: {}'.format(b))\n",
    "print('El numero es: {}'.format(c))"
   ]
  },
  {
   "cell_type": "code",
   "execution_count": null,
   "id": "aacc0057",
   "metadata": {},
   "outputs": [],
   "source": []
  }
 ],
 "metadata": {
  "kernelspec": {
   "display_name": "Python 3 (ipykernel)",
   "language": "python",
   "name": "python3"
  },
  "language_info": {
   "codemirror_mode": {
    "name": "ipython",
    "version": 3
   },
   "file_extension": ".py",
   "mimetype": "text/x-python",
   "name": "python",
   "nbconvert_exporter": "python",
   "pygments_lexer": "ipython3",
   "version": "3.11.4"
  }
 },
 "nbformat": 4,
 "nbformat_minor": 5
}
